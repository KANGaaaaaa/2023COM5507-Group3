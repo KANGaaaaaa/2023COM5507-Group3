{
 "cells": [
  {
   "cell_type": "code",
   "execution_count": null,
   "id": "2ae6d2f4",
   "metadata": {},
   "outputs": [],
   "source": [
    "import pandas as pd\n",
    "from textblob import TextBlob\n",
    "\n",
    "file_path = 'C:\\\\cityu\\\\5507\\\\data\\\\all-clean.csv'\n",
    "comments_df = pd.read_csv(file_path)\n",
    "comments_text_column = 'Comment'\n",
    "\n",
    "def sentiment_analysis(text):\n",
    "    if not isinstance(text, str):\n",
    "        return {\"polarity\": 0, \"subjectivity\": 0}\n",
    "    blob = TextBlob(text)\n",
    "    return {\"polarity\": blob.sentiment.polarity, \"subjectivity\": blob.sentiment.subjectivity}\n",
    "\n",
    "def categorize_sentiment(polarity):\n",
    "    if polarity > 0.1:\n",
    "        return 'Positive'\n",
    "    elif polarity < -0.1:\n",
    "        return 'Negative'\n",
    "    else:\n",
    "        return 'Neutral'\n",
    "\n",
    "comments_df['sentiment'] = comments_df[comments_text_column].apply(sentiment_analysis)\n",
    "\n",
    "comments_df['sentiment_category'] = comments_df['sentiment'].apply(lambda x: categorize_sentiment(x['polarity']))\n",
    "\n",
    "sentiment_counts = comments_df['sentiment_category'].value_counts()\n",
    "\n",
    "print(sentiment_counts)"
   ]
  },
  {
   "cell_type": "code",
   "execution_count": null,
   "id": "8061ab3f",
   "metadata": {},
   "outputs": [],
   "source": [
    "import matplotlib.pyplot as plt\n",
    "\n",
    "sentiment_counts = {\n",
    "    'Neutral': 22349,\n",
    "    'Positive': 11539,\n",
    "    'Negative': 5681\n",
    "}\n",
    "\n",
    "colors = ['#BFCADE', '#E5C1BF', '#C8CFC8']\n",
    "\n",
    "plt.rcParams['font.size'] = 12\n",
    "plt.rcParams['font.family'] = 'serif'\n",
    "\n",
    "plt.figure(figsize=(8, 8))\n",
    "plt.pie(sentiment_counts.values(), labels=sentiment_counts.keys(), colors=colors, autopct='%1.1f%%', startangle=140)\n",
    "plt.title('Sentiment Polarity Distribution', fontsize=14)\n",
    "plt.show()"
   ]
  }
 ],
 "metadata": {
  "kernelspec": {
   "display_name": "Python 3 (ipykernel)",
   "language": "python",
   "name": "python3"
  },
  "language_info": {
   "codemirror_mode": {
    "name": "ipython",
    "version": 3
   },
   "file_extension": ".py",
   "mimetype": "text/x-python",
   "name": "python",
   "nbconvert_exporter": "python",
   "pygments_lexer": "ipython3",
   "version": "3.11.4"
  }
 },
 "nbformat": 4,
 "nbformat_minor": 5
}
